{
 "cells": [
  {
   "cell_type": "markdown",
   "id": "25f661bd",
   "metadata": {},
   "source": [
    "# Stereo Disparity Map using Normalized Cross Correlation\n",
    "\n",
    "This notebook computes a stereo disparity map for the images `image0110_c0.pgm` and `image0110_c1.pgm` using normalized cross correlation (NCC) as the similarity metric. The implementation follows the algorithm discussed in the lecture and does not use OpenCV's built-in stereo matching functions."
   ]
  },
  {
   "cell_type": "code",
   "execution_count": 3,
   "id": "d7443bd9",
   "metadata": {},
   "outputs": [
    {
     "name": "stdout",
     "output_type": "stream",
     "text": [
      "Images loaded: (481, 640) (481, 640)\n"
     ]
    }
   ],
   "source": [
    "import numpy as np\n",
    "import matplotlib.pyplot as plt\n",
    "from matplotlib.colors import LogNorm\n",
    "import cv2\n",
    "import os\n",
    "\n",
    "# Unzip images if not already extracted\n",
    "notebook_dir = os.getcwd()\n",
    "image_left_path = os.path.join(notebook_dir, 'Additional_files', 'Stereo_images', 'ConstructionSiteLeft', 'image0110_c0.pgm')\n",
    "image_right_path = os.path.join(notebook_dir, 'Additional_files', 'Stereo_images', 'ConstructionSiteRight', 'image0110_c1.pgm')\n",
    "\n",
    "img_left = cv2.imread(image_left_path, cv2.IMREAD_GRAYSCALE)\n",
    "img_right = cv2.imread(image_right_path, cv2.IMREAD_GRAYSCALE)\n",
    "\n",
    "print(\"Images loaded:\", img_left.shape, img_right.shape)"
   ]
  },
  {
   "cell_type": "markdown",
   "id": "0e1f4aac",
   "metadata": {},
   "source": [
    "## Stereo Matching with Normalized Cross Correlation\n",
    "\n",
    "We implement the block matching algorithm using NCC as the similarity metric. The disparity is computed for each pixel by searching for the best match along the same row in the right image."
   ]
  },
  {
   "cell_type": "code",
   "execution_count": null,
   "id": "60f27444",
   "metadata": {},
   "outputs": [
    {
     "name": "stdout",
     "output_type": "stream",
     "text": [
      "Computing disparity map with window size 5...\n"
     ]
    }
   ],
   "source": [
    "def compute_ncc_patch(patch1, patch2):\n",
    "    \"\"\"Compute normalized cross correlation between two patches.\"\"\"\n",
    "    mean1 = patch1 - np.mean(patch1)\n",
    "    mean2 = patch2 - np.mean(patch2)\n",
    "    numerator = np.sum(mean1 * mean2)\n",
    "    denominator = np.sqrt(np.sum(mean1 ** 2) * np.sum(mean2 ** 2))\n",
    "    if denominator == 0:\n",
    "        return 0\n",
    "    return numerator / denominator\n",
    "\n",
    "def compute_disparity_ncc(img_left, img_right, max_disp=64, window_size=9):\n",
    "    \"\"\"Compute disparity map using NCC.\"\"\"\n",
    "    h, w = img_left.shape\n",
    "    half_w = window_size // 2\n",
    "    disparity_map = np.zeros((h, w), dtype=np.float32)\n",
    "    for y in range(half_w, h - half_w):\n",
    "        for x in range(half_w, w - half_w):\n",
    "            best_ncc = -1\n",
    "            best_disp = 0\n",
    "            left_patch = img_left[y-half_w:y+half_w+1, x-half_w:x+half_w+1]\n",
    "            for d in range(0, min(max_disp, x-half_w+1)):\n",
    "                x_right = x - d\n",
    "                right_patch = img_right[y-half_w:y+half_w+1, x_right-half_w:x_right+half_w+1]\n",
    "                ncc = compute_ncc_patch(left_patch, right_patch)\n",
    "                if ncc > best_ncc:\n",
    "                    best_ncc = ncc\n",
    "                    best_disp = d\n",
    "            disparity_map[y, x] = best_disp\n",
    "    return disparity_map\n",
    "\n",
    "# Try different window sizes to find optimal one\n",
    "#window_sizes = [5, 7, 9, 11, 13]\n",
    "window_sizes = [5]\n",
    "disparity_maps = []\n",
    "for ws in window_sizes:\n",
    "    print(f\"Computing disparity map with window size {ws}...\")\n",
    "    disp = compute_disparity_ncc(img_left, img_right, max_disp=64, window_size=ws)\n",
    "    disparity_maps.append(disp)"
   ]
  },
  {
   "cell_type": "markdown",
   "id": "53acc9d4",
   "metadata": {},
   "source": [
    "## Visualize Disparity Maps\n",
    "\n",
    "Display the computed disparity maps for different window sizes using the \"jet\" colormap with logarithmic scaling."
   ]
  },
  {
   "cell_type": "code",
   "execution_count": null,
   "id": "158d6d01",
   "metadata": {},
   "outputs": [],
   "source": [
    "fig, axs = plt.subplots(1, len(window_sizes), figsize=(20, 5))\n",
    "for i, (disp, ws) in enumerate(zip(disparity_maps, window_sizes)):\n",
    "    axs[i].imshow(disp, cmap='jet', norm=LogNorm(vmin=1, vmax=np.max(disp)+1))\n",
    "    axs[i].set_title(f'Window size: {ws}')\n",
    "    axs[i].axis('off')\n",
    "plt.suptitle(\"Disparity Maps with Different Window Sizes (LogNorm, 'jet')\")\n",
    "plt.show()"
   ]
  },
  {
   "cell_type": "markdown",
   "id": "d5dbdb40",
   "metadata": {},
   "source": [
    "## Final Disparity Map\n",
    "\n",
    "The optimal window size can be chosen based on the visual quality of the disparity maps above. Below, we display the disparity map for the selected optimal window size."
   ]
  },
  {
   "cell_type": "code",
   "execution_count": null,
   "id": "4e711164",
   "metadata": {},
   "outputs": [],
   "source": [
    "# Select optimal window size (e.g., 9)\n",
    "optimal_idx = 2  # window_size=9\n",
    "optimal_disp = disparity_maps[optimal_idx]\n",
    "\n",
    "plt.figure(figsize=(10, 8))\n",
    "plt.imshow(optimal_disp, cmap='jet', norm=LogNorm(vmin=1, vmax=np.max(optimal_disp)+1))\n",
    "plt.title(\"Final Disparity Map (Window size = 9, LogNorm, 'jet')\")\n",
    "plt.axis('off')\n",
    "plt.colorbar()\n",
    "plt.show()"
   ]
  }
 ],
 "metadata": {
  "kernelspec": {
   "display_name": "Python 3",
   "language": "python",
   "name": "python3"
  },
  "language_info": {
   "codemirror_mode": {
    "name": "ipython",
    "version": 3
   },
   "file_extension": ".py",
   "mimetype": "text/x-python",
   "name": "python",
   "nbconvert_exporter": "python",
   "pygments_lexer": "ipython3",
   "version": "3.11.9"
  }
 },
 "nbformat": 4,
 "nbformat_minor": 5
}
