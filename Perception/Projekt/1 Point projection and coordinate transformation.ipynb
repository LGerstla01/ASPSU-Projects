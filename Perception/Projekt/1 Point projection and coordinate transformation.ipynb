{
 "cells": [
  {
   "cell_type": "markdown",
   "id": "f4715f0a",
   "metadata": {},
   "source": [
    "# 1. Point projection and coordinate transformation"
   ]
  },
  {
   "cell_type": "markdown",
   "id": "84856f87",
   "metadata": {},
   "source": [
    "### Import Librarys"
   ]
  },
  {
   "cell_type": "code",
   "execution_count": 1,
   "id": "d13e03cf",
   "metadata": {},
   "outputs": [],
   "source": [
    "import cv2\n",
    "import numpy as np\n",
    "import os"
   ]
  },
  {
   "cell_type": "markdown",
   "id": "40336ae9",
   "metadata": {},
   "source": [
    "### Import images"
   ]
  },
  {
   "cell_type": "code",
   "execution_count": 2,
   "id": "9b8d48b7",
   "metadata": {},
   "outputs": [],
   "source": [
    "\n",
    "\n",
    "# Dynamische Pfaderstellung basierend auf dem aktuellen Notebook-Verzeichnis\n",
    "notebook_dir = os.getcwd()\n",
    "image_left_path = os.path.join(notebook_dir, 'Additional_files', 'Stereo_images', 'ConstructionSiteLeft', 'image0110_c0.pgm')\n",
    "image_right_path = os.path.join(notebook_dir, 'Additional_files', 'Stereo_images', 'ConstructionSiteRight', 'image0110_c1.pgm')\n",
    "\n",
    "image_left = cv2.imread(image_left_path, cv2.IMREAD_GRAYSCALE)\n",
    "image_right = cv2.imread(image_right_path, cv2.IMREAD_GRAYSCALE)\n",
    "\n",
    "# Kontrast für Anzeige erhöhen\n",
    "image_left_display = cv2.normalize(image_left, None, 0, 255, cv2.NORM_MINMAX)\n",
    "image_right_display = cv2.normalize(image_right, None, 0, 255, cv2.NORM_MINMAX)"
   ]
  },
  {
   "cell_type": "markdown",
   "id": "8ce639ea",
   "metadata": {},
   "source": [
    "### Get Pixels by mouse click"
   ]
  },
  {
   "cell_type": "code",
   "execution_count": 3,
   "id": "7261dd77",
   "metadata": {},
   "outputs": [
    {
     "name": "stdout",
     "output_type": "stream",
     "text": [
      "pixel_left: [250, 250]\n",
      "pixel_right: [238, 250]\n"
     ]
    }
   ],
   "source": [
    "USE_MOUSE = False\n",
    "pixel_left = None\n",
    "pixel_right = None\n",
    "\n",
    "if USE_MOUSE:\n",
    "    def mouse_callback(event, x, y, flags, param):\n",
    "        global pixel_left, pixel_right\n",
    "        if event == cv2.EVENT_LBUTTONDOWN:\n",
    "            img, name = param\n",
    "            print(f\"{name}: Klick bei ({x}, {y}) \")\n",
    "            if name == 'Left Image':\n",
    "                pixel_left = [x, y]\n",
    "            elif name == 'Right Image':\n",
    "                pixel_right = [x, y]\n",
    "\n",
    "    cv2.namedWindow('Left Image')\n",
    "    cv2.setMouseCallback('Left Image', mouse_callback, param=(image_left, 'Left Image'))\n",
    "    cv2.namedWindow('Right Image')\n",
    "    cv2.setMouseCallback('Right Image', mouse_callback, param=(image_right, 'Right Image'))\n",
    "\n",
    "    cv2.imshow('Left Image', image_left_display)\n",
    "    cv2.imshow('Right Image', image_right_display)\n",
    "    cv2.waitKey(0)\n",
    "    cv2.destroyAllWindows()\n",
    "\n",
    "else:\n",
    "    pixel_left = [250, 250]\n",
    "    pixel_right = [238, 250]\n",
    "\n",
    "print(\"pixel_left:\", pixel_left)\n",
    "print(\"pixel_right:\", pixel_right)"
   ]
  },
  {
   "cell_type": "markdown",
   "id": "da80f68b",
   "metadata": {},
   "source": [
    "## Solution"
   ]
  },
  {
   "cell_type": "markdown",
   "id": "eb5b0845",
   "metadata": {},
   "source": [
    "### Calculate disparity"
   ]
  },
  {
   "cell_type": "code",
   "execution_count": 4,
   "id": "a28cad2f",
   "metadata": {},
   "outputs": [
    {
     "name": "stdout",
     "output_type": "stream",
     "text": [
      "Disparity: 12\n"
     ]
    }
   ],
   "source": [
    "disparity = pixel_left[0] - pixel_right[0]\n",
    "print(\"Disparity:\", disparity)"
   ]
  },
  {
   "cell_type": "markdown",
   "id": "d3c79e1a",
   "metadata": {},
   "source": [
    "### Read Camera parameters"
   ]
  },
  {
   "cell_type": "code",
   "execution_count": 5,
   "id": "77d0ab04",
   "metadata": {},
   "outputs": [
    {
     "name": "stdout",
     "output_type": "stream",
     "text": [
      "internal_params: {'F': 820.428, 'SX': 1.0, 'SY': 1.000283, 'X0': 305.278, 'Y0': 239.826}\n",
      "external_params: {'B': 0.308084, 'LATPOS': -0.07, 'HEIGHT': 1.26, 'DISTANCE': 2.0, 'TILT': 0.06, 'YAW': 0.01, 'ROLL': 0.0}\n"
     ]
    }
   ],
   "source": [
    "camera_txt_path = os.path.join(notebook_dir, 'Additional_files', 'Camera.txt')\n",
    "with open(camera_txt_path, 'r') as f:\n",
    "    camera_txt_content = f.read()\n",
    "\n",
    "internal_params = {}\n",
    "external_params = {}\n",
    "\n",
    "section = None\n",
    "for line in camera_txt_content.strip().split('\\n'):\n",
    "    line = line.strip()\n",
    "    if line == '[INTERNAL]':\n",
    "        section = 'internal'\n",
    "    elif line == '[EXTERNAL]':\n",
    "        section = 'external'\n",
    "    elif '=' in line and section:\n",
    "        key, value = line.split('=', 1)\n",
    "        value_clean = value.split('#', 1)[0].strip()\n",
    "        try:\n",
    "            value_num = float(value_clean)\n",
    "        except ValueError:\n",
    "            value_num = value_clean  \n",
    "        if section == 'internal':\n",
    "            internal_params[key.strip()] = value_num\n",
    "        elif section == 'external':\n",
    "            external_params[key.strip()] = value_num\n",
    "\n",
    "print(\"internal_params:\", internal_params)\n",
    "print(\"external_params:\", external_params)"
   ]
  },
  {
   "cell_type": "markdown",
   "id": "6f9fedf3",
   "metadata": {},
   "source": [
    "### Coordinate Calculation Camera\n"
   ]
  },
  {
   "cell_type": "code",
   "execution_count": 6,
   "id": "2d0ede5a",
   "metadata": {},
   "outputs": [
    {
     "name": "stdout",
     "output_type": "stream",
     "text": [
      "Kameramatrix K:\n",
      " [[820.428        0.         305.278     ]\n",
      " [  0.         820.19588456 239.826     ]\n",
      " [  0.           0.           1.        ]]\n",
      "Point Camera: [-1.41918895  0.26127781 21.063395  ]\n"
     ]
    }
   ],
   "source": [
    "z = (internal_params['F'] * external_params['B']) / disparity\n",
    "x = ((pixel_left[0] - internal_params['X0']) * internal_params['SX'] * z) / internal_params['F']\n",
    "y = ((pixel_left[1] - internal_params['Y0']) * internal_params['SY'] * z) / internal_params['F']\n",
    "\n",
    "K = np.array([\n",
    "    [internal_params['F'] / internal_params['SX'], 0, internal_params['X0']],\n",
    "    [0, internal_params['F'] / internal_params['SY'], internal_params['Y0']],\n",
    "    [0, 0, 1]\n",
    "])\n",
    "print(\"Kameramatrix K:\\n\", K)\n",
    "\n",
    "p_c = np.array([x, y, z])\n",
    "print(\"Point Camera:\", p_c)"
   ]
  },
  {
   "cell_type": "markdown",
   "id": "fc8cb4f3",
   "metadata": {},
   "source": [
    "### Shift from Camera to World"
   ]
  },
  {
   "cell_type": "code",
   "execution_count": 7,
   "id": "d83b41f7",
   "metadata": {},
   "outputs": [
    {
     "name": "stdout",
     "output_type": "stream",
     "text": [
      "Point World (DIN 70000): [21.063395    1.41918895 -0.26127781]\n"
     ]
    }
   ],
   "source": [
    "p_c_din = np.array([p_c[2], -p_c[0], -p_c[1]]) # Beim letzten - bin ich mir nicht ganz sicher\n",
    "print(\"Point World (DIN 70000):\", p_c_din)\n"
   ]
  },
  {
   "cell_type": "markdown",
   "id": "9970ba8f",
   "metadata": {},
   "source": [
    "### Rotation matrix calculation"
   ]
  },
  {
   "cell_type": "code",
   "execution_count": 8,
   "id": "6f4cc3c6",
   "metadata": {},
   "outputs": [
    {
     "name": "stdout",
     "output_type": "stream",
     "text": [
      "Rotationsmatrix R:\n",
      " [[ 9.98150630e-01  9.98183903e-03 -5.99640065e-02]\n",
      " [-9.99983333e-03  9.99950000e-01  0.00000000e+00]\n",
      " [ 5.99610083e-02  5.99630071e-04  9.98200540e-01]]\n"
     ]
    }
   ],
   "source": [
    "roll = external_params['ROLL']    \n",
    "pitch = external_params['TILT']   \n",
    "yaw = external_params['YAW']      \n",
    "\n",
    "Rx = np.array([\n",
    "    [1, 0, 0],\n",
    "    [0, np.cos(roll), -np.sin(roll)],\n",
    "    [0, np.sin(roll), np.cos(roll)]\n",
    "])\n",
    "\n",
    "Ry = np.array([\n",
    "    [np.cos(pitch), 0, np.sin(pitch)],\n",
    "    [0, 1, 0],\n",
    "    [-np.sin(pitch), 0, np.cos(pitch)]\n",
    "])\n",
    "\n",
    "Rz = np.array([\n",
    "    [np.cos(yaw), -np.sin(yaw), 0],\n",
    "    [np.sin(yaw), np.cos(yaw), 0],\n",
    "    [0, 0, 1]\n",
    "])\n",
    "\n",
    "R_wc = Rz @ Ry @ Rx # Weiß nicht, ob man das nicht noch invertieren muss\n",
    "R_cw = np.linalg.inv(R_wc)\n",
    "print(\"Rotationsmatrix R:\\n\", R_cw)"
   ]
  },
  {
   "cell_type": "markdown",
   "id": "d61e59fd",
   "metadata": {},
   "source": [
    "### Translation vector"
   ]
  },
  {
   "cell_type": "code",
   "execution_count": 9,
   "id": "23e60309",
   "metadata": {},
   "outputs": [
    {
     "name": "stdout",
     "output_type": "stream",
     "text": [
      "Verschiebungsvektor t: [[-2.  ]\n",
      " [ 0.07]\n",
      " [-1.26]]\n"
     ]
    }
   ],
   "source": [
    "\n",
    "t_wc_din = np.array([       # Weiß nicht, ob man das nicht noch invertieren muss\n",
    "    [external_params['DISTANCE']],   \n",
    "    [external_params['LATPOS']],     # Weiß nicht, ob da noch die Base line dazu muss\n",
    "    [external_params['HEIGHT']]      \n",
    "])\n",
    "\n",
    "t_cw_din = -t_wc_din\n",
    "\n",
    "print(\"Verschiebungsvektor t:\", t_cw_din)"
   ]
  },
  {
   "cell_type": "markdown",
   "id": "b008c40e",
   "metadata": {},
   "source": [
    "### Apply Rotation and Translation"
   ]
  },
  {
   "cell_type": "code",
   "execution_count": 10,
   "id": "c3687a33",
   "metadata": {},
   "outputs": [
    {
     "name": "stdout",
     "output_type": "stream",
     "text": [
      "3D-Punkt in Weltkoordinaten: [[19.05427437  1.27848755 -0.25697426]]\n"
     ]
    }
   ],
   "source": [
    "\n",
    "p_w_din = R_cw @ p_c_din + t_cw_din.T\n",
    "print(\"3D-Punkt in Weltkoordinaten:\", p_w_din)"
   ]
  },
  {
   "cell_type": "markdown",
   "id": "c4b9ee90",
   "metadata": {},
   "source": [
    "## Backward calculation\n"
   ]
  },
  {
   "cell_type": "code",
   "execution_count": 11,
   "id": "f835f797",
   "metadata": {},
   "outputs": [],
   "source": [
    "p_w_din = np.append(p_w_din, 1)\n",
    "\n"
   ]
  },
  {
   "cell_type": "code",
   "execution_count": 12,
   "id": "7d557e72",
   "metadata": {},
   "outputs": [
    {
     "name": "stdout",
     "output_type": "stream",
     "text": [
      "3D-Punkt in Kamerakoordinaten: [-1.39846623  0.13908247 20.99084288]\n"
     ]
    }
   ],
   "source": [
    "Rt_wc = np.hstack((R_wc, t_wc_din))\n",
    "\n",
    "p_w = Rt_wc @ p_w_din.T\n",
    "\n",
    "p_c = np.array([-p_w[1], -p_w[2], p_w[0]])\n",
    "print(\"3D-Punkt in Kamerakoordinaten:\", p_c)\n"
   ]
  },
  {
   "cell_type": "code",
   "execution_count": 13,
   "id": "c50d0902",
   "metadata": {},
   "outputs": [
    {
     "name": "stdout",
     "output_type": "stream",
     "text": [
      "Pixel in Bildkoordinaten: [250 245]\n",
      "Ursprünglicher Punkt: [250, 250]\n"
     ]
    }
   ],
   "source": [
    "p_c = np.dot(K, p_c)\n",
    "\n",
    "pixel_c = np.array([int(p_c[0] / p_c[2]), int(p_c[1] / p_c[2])])\n",
    "\n",
    "print(\"Pixel in Bildkoordinaten:\", pixel_c)\n",
    "print(\"Ursprünglicher Punkt:\", pixel_left)"
   ]
  }
 ],
 "metadata": {
  "kernelspec": {
   "display_name": "Python 3",
   "language": "python",
   "name": "python3"
  },
  "language_info": {
   "codemirror_mode": {
    "name": "ipython",
    "version": 3
   },
   "file_extension": ".py",
   "mimetype": "text/x-python",
   "name": "python",
   "nbconvert_exporter": "python",
   "pygments_lexer": "ipython3",
   "version": "3.11.9"
  }
 },
 "nbformat": 4,
 "nbformat_minor": 5
}
