{
 "cells": [
  {
   "cell_type": "markdown",
   "id": "f4715f0a",
   "metadata": {},
   "source": [
    "# 1. Point projection and coordinate transformation"
   ]
  },
  {
   "cell_type": "markdown",
   "id": "84856f87",
   "metadata": {},
   "source": [
    "### Import Librarys"
   ]
  },
  {
   "cell_type": "code",
   "execution_count": 157,
   "id": "d13e03cf",
   "metadata": {},
   "outputs": [],
   "source": [
    "import cv2\n",
    "import numpy as np\n",
    "import os"
   ]
  },
  {
   "cell_type": "markdown",
   "id": "40336ae9",
   "metadata": {},
   "source": [
    "### Import images"
   ]
  },
  {
   "cell_type": "code",
   "execution_count": 158,
   "id": "9b8d48b7",
   "metadata": {},
   "outputs": [],
   "source": [
    "notebook_dir = os.getcwd()\n",
    "image_left_path = os.path.join(notebook_dir, 'Additional_files', 'Stereo_images', 'ConstructionSiteLeft', 'image0110_c0.pgm')\n",
    "image_right_path = os.path.join(notebook_dir, 'Additional_files', 'Stereo_images', 'ConstructionSiteRight', 'image0110_c1.pgm')\n",
    "\n",
    "image_left = cv2.imread(image_left_path, cv2.IMREAD_GRAYSCALE)\n",
    "image_right = cv2.imread(image_right_path, cv2.IMREAD_GRAYSCALE)\n",
    "\n",
    "image_left_display = cv2.normalize(image_left, None, 0, 255, cv2.NORM_MINMAX)\n",
    "image_right_display = cv2.normalize(image_right, None, 0, 255, cv2.NORM_MINMAX)"
   ]
  },
  {
   "cell_type": "markdown",
   "id": "8ce639ea",
   "metadata": {},
   "source": [
    "### Get Pixels by mouse click"
   ]
  },
  {
   "cell_type": "code",
   "execution_count": 159,
   "id": "2fb53862",
   "metadata": {},
   "outputs": [],
   "source": [
    "def get_pixel_by_images(num_pixels=1):\n",
    "    pixel_left = None\n",
    "    pixel_right = None\n",
    "    pixel_left2 = None\n",
    "    pixel_right2 = None\n",
    "\n",
    "    def mouse_callback(event, x, y, flags, param):\n",
    "        nonlocal pixel_left, pixel_right, pixel_left2, pixel_right2\n",
    "        if event == cv2.EVENT_LBUTTONDOWN:\n",
    "            img, name = param\n",
    "            print(f\"{name}: Klick bei ({x}, {y}) \")\n",
    "            if name == 'Left Image':\n",
    "                if pixel_left is None:\n",
    "                    pixel_left = [x, y]\n",
    "                elif pixel_left2 is None:\n",
    "                    pixel_left2 = [x, y]\n",
    "            elif name == 'Right Image':\n",
    "                if pixel_right is None:\n",
    "                    pixel_right = [x, y]\n",
    "                elif pixel_right2 is None:\n",
    "                    pixel_right2 = [x, y]\n",
    "\n",
    "    cv2.namedWindow('Left Image')\n",
    "    cv2.setMouseCallback('Left Image', mouse_callback, param=(image_left, 'Left Image'))\n",
    "    cv2.namedWindow('Right Image')\n",
    "    cv2.setMouseCallback('Right Image', mouse_callback, param=(image_right, 'Right Image'))\n",
    "\n",
    "    cv2.imshow('Left Image', image_left_display)\n",
    "    cv2.imshow('Right Image', image_right_display)\n",
    "    cv2.waitKey(0)\n",
    "    cv2.destroyAllWindows()\n",
    "\n",
    "    if num_pixels == 2:\n",
    "        return pixel_left, pixel_right, pixel_left2, pixel_right2\n",
    "    else:\n",
    "        return pixel_left, pixel_right"
   ]
  },
  {
   "cell_type": "code",
   "execution_count": 160,
   "id": "7261dd77",
   "metadata": {},
   "outputs": [
    {
     "name": "stdout",
     "output_type": "stream",
     "text": [
      "Pixel left image: [250, 250]\n",
      "Pixel right image: [238, 250]\n"
     ]
    }
   ],
   "source": [
    "USE_MOUSE = False  \n",
    "\n",
    "if USE_MOUSE:\n",
    "    pixel_left, pixel_right = get_pixel_by_images()\n",
    "else:\n",
    "    pixel_left = [250, 250]\n",
    "    pixel_right = [238, 250]\n",
    "\n",
    "print(\"Pixel left image:\", pixel_left)\n",
    "print(\"Pixel right image:\", pixel_right)"
   ]
  },
  {
   "cell_type": "markdown",
   "id": "da80f68b",
   "metadata": {},
   "source": [
    "## Solution"
   ]
  },
  {
   "cell_type": "markdown",
   "id": "eb5b0845",
   "metadata": {},
   "source": [
    "### Calculate disparity"
   ]
  },
  {
   "cell_type": "code",
   "execution_count": 161,
   "id": "b074adf4",
   "metadata": {},
   "outputs": [],
   "source": [
    "def calc_disparity(pixel_left, pixel_right):\n",
    "    return pixel_left[0] - pixel_right[0]"
   ]
  },
  {
   "cell_type": "code",
   "execution_count": 162,
   "id": "a28cad2f",
   "metadata": {},
   "outputs": [
    {
     "name": "stdout",
     "output_type": "stream",
     "text": [
      "Disparity: 12\n"
     ]
    }
   ],
   "source": [
    "disparity = calc_disparity(pixel_left, pixel_right)\n",
    "\n",
    "#disparity = 3\n",
    "print(\"Disparity:\", disparity)"
   ]
  },
  {
   "cell_type": "markdown",
   "id": "d3c79e1a",
   "metadata": {},
   "source": [
    "### Read Camera parameters"
   ]
  },
  {
   "cell_type": "code",
   "execution_count": 163,
   "id": "77d0ab04",
   "metadata": {},
   "outputs": [
    {
     "name": "stdout",
     "output_type": "stream",
     "text": [
      "Internal params: {'F': 820.428, 'SX': 1.0, 'SY': 1.000283, 'X0': 305.278, 'Y0': 239.826}\n",
      "External params: {'B': 0.308084, 'LATPOS': -0.07, 'HEIGHT': 1.26, 'DISTANCE': 2.0, 'TILT': 0.06, 'YAW': 0.01, 'ROLL': 0.0}\n"
     ]
    }
   ],
   "source": [
    "camera_txt_path = os.path.join(notebook_dir, 'Additional_files', 'Camera.txt')\n",
    "with open(camera_txt_path, 'r') as f:\n",
    "    camera_txt_content = f.read()\n",
    "\n",
    "internal_params = {}\n",
    "external_params = {}\n",
    "\n",
    "section = None\n",
    "for line in camera_txt_content.strip().split('\\n'):\n",
    "    line = line.strip()\n",
    "    if line == '[INTERNAL]':\n",
    "        section = 'internal'\n",
    "    elif line == '[EXTERNAL]':\n",
    "        section = 'external'\n",
    "    elif '=' in line and section:\n",
    "        key, value = line.split('=', 1)\n",
    "        value_clean = value.split('#', 1)[0].strip()\n",
    "        try:\n",
    "            value_num = float(value_clean)\n",
    "        except ValueError:\n",
    "            value_num = value_clean  \n",
    "        if section == 'internal':\n",
    "            internal_params[key.strip()] = value_num\n",
    "        elif section == 'external':\n",
    "            external_params[key.strip()] = value_num\n",
    "\n",
    "print(\"Internal params:\", internal_params)\n",
    "print(\"External params:\", external_params)"
   ]
  },
  {
   "cell_type": "markdown",
   "id": "e465e4f3",
   "metadata": {},
   "source": [
    "### Camera Matrix"
   ]
  },
  {
   "cell_type": "code",
   "execution_count": 164,
   "id": "7c7eb563",
   "metadata": {},
   "outputs": [
    {
     "name": "stdout",
     "output_type": "stream",
     "text": [
      "Camera matrix K: \n",
      " [[820.428        0.         305.278     ]\n",
      " [  0.         820.19588456 239.826     ]\n",
      " [  0.           0.           1.        ]]\n"
     ]
    }
   ],
   "source": [
    "K = np.array([\n",
    "    [internal_params['F'] / internal_params['SX'], 0, internal_params['X0']],\n",
    "    [0, internal_params['F'] / internal_params['SY'], internal_params['Y0']],\n",
    "    [0, 0, 1]\n",
    "])\n",
    "K_inv = np.linalg.inv(K)\n",
    "print(\"Camera matrix K: \\n\", K)"
   ]
  },
  {
   "cell_type": "markdown",
   "id": "ff2131ab",
   "metadata": {},
   "source": [
    "### Rotation matrix calculation"
   ]
  },
  {
   "cell_type": "code",
   "execution_count": 165,
   "id": "466f47c4",
   "metadata": {},
   "outputs": [
    {
     "name": "stdout",
     "output_type": "stream",
     "text": [
      "Rotation matrix R_wc:\n",
      " [[ 9.98150630e-01 -9.99983333e-03  5.99610083e-02]\n",
      " [ 9.98183903e-03  9.99950000e-01  5.99630071e-04]\n",
      " [-5.99640065e-02  0.00000000e+00  9.98200540e-01]]\n",
      "Rotation matrix R_cw_din:\n",
      " [[ 9.98150630e-01  9.98183903e-03 -5.99640065e-02]\n",
      " [-9.99983333e-03  9.99950000e-01  0.00000000e+00]\n",
      " [ 5.99610083e-02  5.99630071e-04  9.98200540e-01]]\n"
     ]
    }
   ],
   "source": [
    "roll = external_params['ROLL']    \n",
    "pitch = external_params['TILT']   \n",
    "yaw = external_params['YAW']      \n",
    "\n",
    "Rx = np.array([\n",
    "    [1, 0, 0],\n",
    "    [0, np.cos(roll), -np.sin(roll)],\n",
    "    [0, np.sin(roll), np.cos(roll)]\n",
    "])\n",
    "\n",
    "Ry = np.array([\n",
    "    [np.cos(pitch), 0, np.sin(pitch)],\n",
    "    [0, 1, 0],\n",
    "    [-np.sin(pitch), 0, np.cos(pitch)]\n",
    "])\n",
    "\n",
    "Rz = np.array([\n",
    "    [np.cos(yaw), -np.sin(yaw), 0],\n",
    "    [np.sin(yaw), np.cos(yaw), 0],\n",
    "    [0, 0, 1]\n",
    "])\n",
    "\n",
    "R_wc = Rz @ Ry @ Rx\n",
    "print(\"Rotation matrix R_wc:\\n\", R_wc)\n",
    "R_cw = np.linalg.inv(R_wc)\n",
    "print(\"Rotation matrix R_cw_din:\\n\", R_cw)"
   ]
  },
  {
   "cell_type": "markdown",
   "id": "d61e59fd",
   "metadata": {},
   "source": [
    "### Translation vector"
   ]
  },
  {
   "cell_type": "code",
   "execution_count": 166,
   "id": "7b010ebc",
   "metadata": {},
   "outputs": [
    {
     "name": "stdout",
     "output_type": "stream",
     "text": [
      "Translation vector t_wc_din:\n",
      " [[2.      ]\n",
      " [0.084042]\n",
      " [1.26    ]]\n",
      "Translation vector t_cw_din: \n",
      " [[-2.      ]\n",
      " [-0.084042]\n",
      " [-1.26    ]]\n"
     ]
    }
   ],
   "source": [
    "\n",
    "t_wc_din = np.array([\n",
    "    [external_params['DISTANCE']],   \n",
    "    [external_params['LATPOS']+external_params['B']/2],     # Weiß nicht, ob da noch die Base line dazu muss\n",
    "    [external_params['HEIGHT']]      \n",
    "])\n",
    "\n",
    "print(\"Translation vector t_wc_din:\\n\", t_wc_din)\n",
    "t_cw_din = -t_wc_din\n",
    "\n",
    "print(\"Translation vector t_cw_din: \\n\", t_cw_din)"
   ]
  },
  {
   "cell_type": "markdown",
   "id": "6f9fedf3",
   "metadata": {},
   "source": [
    "### Coordinate Calculation Camera\n"
   ]
  },
  {
   "cell_type": "code",
   "execution_count": 167,
   "id": "aada0882",
   "metadata": {},
   "outputs": [],
   "source": [
    "def pixel_to_coordinate(pixel, internal_params, external_params, disparity):\n",
    "    z = (internal_params['F'] * external_params['B']) / disparity\n",
    "    x = ((pixel[0] - internal_params['X0']) * internal_params['SX'] * z) / internal_params['F']\n",
    "    y = ((pixel[1] - internal_params['Y0']) * internal_params['SY'] * z) / internal_params['F']\n",
    "    \n",
    "    return np.array([x, y, z])"
   ]
  },
  {
   "cell_type": "code",
   "execution_count": 168,
   "id": "2d0ede5a",
   "metadata": {},
   "outputs": [
    {
     "name": "stdout",
     "output_type": "stream",
     "text": [
      "Point P_c: \n",
      " [-1.41918895  0.26127781 21.063395  ]\n"
     ]
    }
   ],
   "source": [
    "p_c = pixel_to_coordinate(pixel_left, internal_params, external_params, disparity)\n",
    "print(\"Point P_c: \\n\", p_c)"
   ]
  },
  {
   "cell_type": "markdown",
   "id": "fc8cb4f3",
   "metadata": {},
   "source": [
    "### Shift from Camera to World"
   ]
  },
  {
   "cell_type": "code",
   "execution_count": 169,
   "id": "3b27f35d",
   "metadata": {},
   "outputs": [],
   "source": [
    "def camera_to_din(p_c):\n",
    "    return np.array([[p_c[2]], [-p_c[0]], [-p_c[1]]]) # Beim letzten - bin ich mir nicht ganz sicher"
   ]
  },
  {
   "cell_type": "code",
   "execution_count": 170,
   "id": "d83b41f7",
   "metadata": {},
   "outputs": [
    {
     "name": "stdout",
     "output_type": "stream",
     "text": [
      "Point P_c_din: \n",
      " [[21.063395  ]\n",
      " [ 1.41918895]\n",
      " [-0.26127781]]\n"
     ]
    }
   ],
   "source": [
    "p_c_din = camera_to_din(p_c) \n",
    "print(\"Point P_c_din: \\n\", p_c_din)"
   ]
  },
  {
   "cell_type": "markdown",
   "id": "b008c40e",
   "metadata": {},
   "source": [
    "### Apply Rotation and Translation"
   ]
  },
  {
   "cell_type": "code",
   "execution_count": 171,
   "id": "78ebb580",
   "metadata": {},
   "outputs": [],
   "source": [
    "def camera_to_world(p_c, R_cw, t_cw_din):\n",
    "    p_w = R_cw @ p_c + t_cw_din\n",
    "    return p_w"
   ]
  },
  {
   "cell_type": "code",
   "execution_count": 172,
   "id": "c3687a33",
   "metadata": {},
   "outputs": [
    {
     "name": "stdout",
     "output_type": "stream",
     "text": [
      "Point P_w_din: \n",
      " [[19.05427437]\n",
      " [ 1.12444555]\n",
      " [-0.25697426]]\n"
     ]
    }
   ],
   "source": [
    "p_w_din = camera_to_world(p_c_din, R_cw, t_cw_din)\n",
    "print(\"Point P_w_din: \\n\" , p_w_din)"
   ]
  },
  {
   "cell_type": "markdown",
   "id": "87d8f410",
   "metadata": {},
   "source": [
    "# Validation"
   ]
  },
  {
   "cell_type": "markdown",
   "id": "4a912c3d",
   "metadata": {},
   "source": [
    "## Validation with object of known size"
   ]
  },
  {
   "cell_type": "markdown",
   "id": "de302ed9",
   "metadata": {},
   "source": [
    "511-21 Verschwenkungstafel ohne Gegenverkehr\n",
    "\n",
    "1600 x 1250 mm (HxB)"
   ]
  },
  {
   "cell_type": "code",
   "execution_count": 173,
   "id": "99661c8e",
   "metadata": {},
   "outputs": [],
   "source": [
    "def pixel_to_world(pixel_left, pixel_right, internal_params, external_params):\n",
    "    disparity = calc_disparity(pixel_left, pixel_right)\n",
    "    p_c = pixel_to_coordinate(pixel_left, internal_params, external_params, disparity)\n",
    "    p_c_din = camera_to_din(p_c)\n",
    "    p_w_din = camera_to_world(p_c_din, R_cw, t_cw_din)\n",
    "    return p_w_din"
   ]
  },
  {
   "cell_type": "code",
   "execution_count": 174,
   "id": "0559f0bf",
   "metadata": {},
   "outputs": [
    {
     "name": "stdout",
     "output_type": "stream",
     "text": [
      "Point down right: \n",
      " [[19.05427437]\n",
      " [ 1.12444555]\n",
      " [-0.25697426]]\n",
      "Point up right: \n",
      " [[18.94647916]\n",
      " [ 1.12444555]\n",
      " [ 1.53745618]]\n",
      "Point down left:\n",
      " [[19.03885889]\n",
      " [ 2.20268563]\n",
      " [ 0.17946257]]\n",
      "Abstand zwischen p_w_din und p_val_w_din: 1.798\n",
      "Soll Abstand: 1.600\n",
      "Abstand zwischen p_val_w_din und p_w_din: 1.163\n",
      "Soll Abstand: 1.250\n"
     ]
    }
   ],
   "source": [
    "USE_MOUSE = False  # Set to True to use mouse for pixel selection\n",
    "\n",
    "if USE_MOUSE:\n",
    "    get_pixel_by_images(2)\n",
    "else:\n",
    "    pixel_left1 = [250, 180]\n",
    "    pixel_right1 = [238, 180]\n",
    "    pixel_left2 = [208, 233]\n",
    "    pixel_right2 = [196, 233]\n",
    "\n",
    "p1_val_w_din = pixel_to_world(pixel_left1, pixel_right1, internal_params, external_params)\n",
    "p2_val_w_din = pixel_to_world(pixel_left2, pixel_right2, internal_params, external_params)\n",
    "print(\"Point down right: \\n\", p_w_din)\n",
    "print(\"Point up right: \\n\", p1_val_w_din)\n",
    "print(\"Point down left:\\n\", p2_val_w_din)\n",
    "\n",
    "# Abstand zwischen p_w_din und p_val_w_din\n",
    "distance1 = np.linalg.norm(p_w_din - p1_val_w_din)\n",
    "print(\"Abstand zwischen p_w_din und p_val_w_din:\", f\"{distance1:.3f}\" )\n",
    "print(\"Soll Abstand: 1.600\")\n",
    "\n",
    "# Abstand zwischen p_val_w_din und p_w_din\n",
    "distance2 = np.linalg.norm(p_w_din - p2_val_w_din)\n",
    "print(\"Abstand zwischen p_val_w_din und p_w_din:\", f\"{distance2:.3f}\")\n",
    "print(\"Soll Abstand: 1.250\")\n"
   ]
  },
  {
   "cell_type": "markdown",
   "id": "c4b9ee90",
   "metadata": {},
   "source": [
    "## Backward calculation\n"
   ]
  },
  {
   "cell_type": "code",
   "execution_count": 175,
   "id": "f835f797",
   "metadata": {},
   "outputs": [],
   "source": [
    "p_w_din = np.append(p_w_din, 1)"
   ]
  },
  {
   "cell_type": "code",
   "execution_count": null,
   "id": "7d557e72",
   "metadata": {},
   "outputs": [
    {
     "name": "stdout",
     "output_type": "stream",
     "text": [
      "3D-Punkt in Kamerakoordinaten: [-1.39847394  0.13908247 21.14642527]\n"
     ]
    }
   ],
   "source": [
    "Rt_wc = np.hstack((R_wc, t_wc_din))\n",
    "\n",
    "p_w = Rt_wc @ p_w_din.T\n",
    "\n",
    "p_c = np.array([-p_w[1], -p_w[2], p_w[0]])\n",
    "print(\"3D-Punkt in Kamerakoordinaten:\", p_c)"
   ]
  },
  {
   "cell_type": "code",
   "execution_count": 177,
   "id": "c50d0902",
   "metadata": {},
   "outputs": [
    {
     "name": "stdout",
     "output_type": "stream",
     "text": [
      "Pixel in Bildkoordinaten: [251 245]\n",
      "Ursprünglicher Punkt: [250, 250]\n"
     ]
    }
   ],
   "source": [
    "p_c = np.dot(K, p_c)\n",
    "\n",
    "pixel_c = np.array([int(p_c[0] / p_c[2]), int(p_c[1] / p_c[2])])\n",
    "\n",
    "print(\"Pixel in Bildkoordinaten:\", pixel_c)\n",
    "print(\"Ursprünglicher Punkt:\", pixel_left)"
   ]
  }
 ],
 "metadata": {
  "kernelspec": {
   "display_name": "Python 3",
   "language": "python",
   "name": "python3"
  },
  "language_info": {
   "codemirror_mode": {
    "name": "ipython",
    "version": 3
   },
   "file_extension": ".py",
   "mimetype": "text/x-python",
   "name": "python",
   "nbconvert_exporter": "python",
   "pygments_lexer": "ipython3",
   "version": "3.11.9"
  }
 },
 "nbformat": 4,
 "nbformat_minor": 5
}
