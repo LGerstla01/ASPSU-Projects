{
 "cells": [
  {
   "cell_type": "markdown",
   "id": "f4715f0a",
   "metadata": {},
   "source": [
    "# 1. Point projection and coordinate transformation"
   ]
  },
  {
   "cell_type": "markdown",
   "id": "84856f87",
   "metadata": {},
   "source": [
    "## Import Librarys"
   ]
  },
  {
   "cell_type": "code",
   "execution_count": 24,
   "id": "d13e03cf",
   "metadata": {},
   "outputs": [],
   "source": [
    "import cv2\n",
    "import numpy as np\n",
    "import os"
   ]
  },
  {
   "cell_type": "markdown",
   "id": "40336ae9",
   "metadata": {},
   "source": [
    "## Import images"
   ]
  },
  {
   "cell_type": "code",
   "execution_count": 25,
   "id": "9b8d48b7",
   "metadata": {},
   "outputs": [
    {
     "name": "stdout",
     "output_type": "stream",
     "text": [
      "image_left_path: c:\\Users\\lukas\\Dokumente\\Studium\\Master\\2_Semester\\Faecher\\Autonomous Systems Perception and Situation Understanding\\ASPSU-Projects\\Perception\\Projekt\\Additional_files\\Stereo_images\\ConstructionSiteLeft\\image0110_c0.pgm\n",
      "image_right_path: c:\\Users\\lukas\\Dokumente\\Studium\\Master\\2_Semester\\Faecher\\Autonomous Systems Perception and Situation Understanding\\ASPSU-Projects\\Perception\\Projekt\\Additional_files\\Stereo_images\\ConstructionSiteRight\\image0110_c1.pgm\n",
      "image_left_display is None: False\n",
      "image_right_display is None: False\n"
     ]
    }
   ],
   "source": [
    "\n",
    "\n",
    "# Dynamische Pfaderstellung basierend auf dem aktuellen Notebook-Verzeichnis\n",
    "notebook_dir = os.getcwd()\n",
    "image_left_path = os.path.join(notebook_dir, 'Additional_files', 'Stereo_images', 'ConstructionSiteLeft', 'image0110_c0.pgm')\n",
    "image_right_path = os.path.join(notebook_dir, 'Additional_files', 'Stereo_images', 'ConstructionSiteRight', 'image0110_c1.pgm')\n",
    "\n",
    "image_left = cv2.imread(image_left_path, cv2.IMREAD_GRAYSCALE)\n",
    "image_right = cv2.imread(image_right_path, cv2.IMREAD_GRAYSCALE)\n",
    "\n",
    "# Kontrast für Anzeige erhöhen\n",
    "image_left_display = cv2.normalize(image_left, None, 0, 255, cv2.NORM_MINMAX)\n",
    "image_right_display = cv2.normalize(image_right, None, 0, 255, cv2.NORM_MINMAX)\n",
    "\n",
    "print(\"image_left_path:\", image_left_path)\n",
    "print(\"image_right_path:\", image_right_path)\n",
    "print(\"image_left_display is None:\", image_left_display is None)\n",
    "print(\"image_right_display is None:\", image_right_display is None)"
   ]
  },
  {
   "cell_type": "markdown",
   "id": "8ce639ea",
   "metadata": {},
   "source": [
    "## Get Pixels by mouse click"
   ]
  },
  {
   "cell_type": "code",
   "execution_count": 26,
   "id": "7261dd77",
   "metadata": {},
   "outputs": [
    {
     "name": "stdout",
     "output_type": "stream",
     "text": [
      "pixel_left: [250, 250]\n",
      "pixel_right: [238, 250]\n"
     ]
    }
   ],
   "source": [
    "USE_MOUSE = False\n",
    "pixel_left = None\n",
    "pixel_right = None\n",
    "\n",
    "if USE_MOUSE:\n",
    "    def mouse_callback(event, x, y, flags, param):\n",
    "        global pixel_left, pixel_right\n",
    "        if event == cv2.EVENT_LBUTTONDOWN:\n",
    "            img, name = param\n",
    "            print(f\"{name}: Klick bei ({x}, {y}) \")\n",
    "            if name == 'Left Image':\n",
    "                pixel_left = [x, y]\n",
    "            elif name == 'Right Image':\n",
    "                pixel_right = [x, y]\n",
    "\n",
    "    cv2.namedWindow('Left Image')\n",
    "    cv2.setMouseCallback('Left Image', mouse_callback, param=(image_left, 'Left Image'))\n",
    "    cv2.namedWindow('Right Image')\n",
    "    cv2.setMouseCallback('Right Image', mouse_callback, param=(image_right, 'Right Image'))\n",
    "\n",
    "    cv2.imshow('Left Image', image_left_display)\n",
    "    cv2.imshow('Right Image', image_right_display)\n",
    "    cv2.waitKey(0)\n",
    "    cv2.destroyAllWindows()\n",
    "\n",
    "else:\n",
    "    pixel_left = [250, 250]\n",
    "    pixel_right = [238, 250]\n",
    "\n",
    "print(\"pixel_left:\", pixel_left)\n",
    "print(\"pixel_right:\", pixel_right)"
   ]
  },
  {
   "cell_type": "markdown",
   "id": "eb5b0845",
   "metadata": {},
   "source": [
    "## Calculate disparity"
   ]
  },
  {
   "cell_type": "code",
   "execution_count": 27,
   "id": "a28cad2f",
   "metadata": {},
   "outputs": [
    {
     "name": "stdout",
     "output_type": "stream",
     "text": [
      "Disparity: 12\n"
     ]
    }
   ],
   "source": [
    "disparity = pixel_left[0] - pixel_right[0]\n",
    "print(\"Disparity:\", disparity)"
   ]
  },
  {
   "cell_type": "markdown",
   "id": "d3c79e1a",
   "metadata": {},
   "source": [
    "## Read Camera parameters"
   ]
  },
  {
   "cell_type": "code",
   "execution_count": 29,
   "id": "77d0ab04",
   "metadata": {},
   "outputs": [
    {
     "name": "stdout",
     "output_type": "stream",
     "text": [
      "internal_params: {'F': 820.428, 'SX': 1.0, 'SY': 1.000283, 'X0': 305.278, 'Y0': 239.826}\n",
      "external_params: {'B': 0.308084, 'LATPOS': -0.07, 'HEIGHT': 1.26, 'DISTANCE': 2.0, 'TILT': 0.06, 'YAW': 0.01, 'ROLL': 0.0}\n"
     ]
    }
   ],
   "source": [
    "camera_txt_path = os.path.join(notebook_dir, 'Additional_files', 'Camera.txt')\n",
    "with open(camera_txt_path, 'r') as f:\n",
    "    camera_txt_content = f.read()\n",
    "\n",
    "internal_params = {}\n",
    "external_params = {}\n",
    "\n",
    "section = None\n",
    "for line in camera_txt_content.strip().split('\\n'):\n",
    "    line = line.strip()\n",
    "    if line == '[INTERNAL]':\n",
    "        section = 'internal'\n",
    "    elif line == '[EXTERNAL]':\n",
    "        section = 'external'\n",
    "    elif '=' in line and section:\n",
    "        key, value = line.split('=', 1)\n",
    "        value_clean = value.split('#', 1)[0].strip()\n",
    "        try:\n",
    "            value_num = float(value_clean)\n",
    "        except ValueError:\n",
    "            value_num = value_clean  # fallback if not a number\n",
    "        if section == 'internal':\n",
    "            internal_params[key.strip()] = value_num\n",
    "        elif section == 'external':\n",
    "            external_params[key.strip()] = value_num\n",
    "\n",
    "print(\"internal_params:\", internal_params)\n",
    "print(\"external_params:\", external_params)"
   ]
  },
  {
   "cell_type": "markdown",
   "id": "6f9fedf3",
   "metadata": {},
   "source": [
    "## Coordinate Calculation Camera\n"
   ]
  },
  {
   "cell_type": "code",
   "execution_count": null,
   "id": "2d0ede5a",
   "metadata": {},
   "outputs": [
    {
     "name": "stdout",
     "output_type": "stream",
     "text": [
      "X: 17.180358080189208\n",
      "Y: 21.869102570460324\n",
      "Z: 21.063394996000003\n"
     ]
    }
   ],
   "source": [
    "# TODO  berechnung zu X, Y, Z\n",
    "f = internal_params['F']\n",
    "B = external_params['B']\n",
    "z = (f * B) / disparity\n",
    "\n",
    "pixel_hom = np.array([pixel_left[0], pixel_left[1], 1])\n",
    "K_inv = np.linalg.inv(np.array([\n",
    "    [internal_params['X0'], 0, internal_params['SX']],\n",
    "    [0, internal_params['Y0'], internal_params['SY']],\n",
    "    [0, 0, 1]\n",
    "]))\n",
    "xyz_norm = K_inv @ pixel_hom * z\n",
    "x, y = xyz_norm[0], xyz_norm[1]\n",
    "print(\"X:\", x)\n",
    "print(\"Y:\", y)\n",
    "print(\"Z:\", z)\n",
    "\n",
    "point_3d = np.array([x, y, z])"
   ]
  },
  {
   "cell_type": "markdown",
   "id": "fc8cb4f3",
   "metadata": {},
   "source": [
    "## Shift from Camera to World"
   ]
  },
  {
   "cell_type": "code",
   "execution_count": null,
   "id": "d83b41f7",
   "metadata": {},
   "outputs": [
    {
     "name": "stdout",
     "output_type": "stream",
     "text": [
      "3D-Punkt in Weltkoordinaten (DIN 70000): [-21.86910257 -21.063395    17.18035808]\n"
     ]
    }
   ],
   "source": [
    "# TODO: Umwandlung in DIN 70000 Koordinatensystem\n",
    "point_3d_din = np.array([-point_3d[1], -point_3d[2], point_3d[0]])\n",
    "\n",
    "\n",
    "\n",
    "print(\"3D-Punkt in Weltkoordinaten (DIN 70000):\", point_3d_din)\n"
   ]
  },
  {
   "cell_type": "markdown",
   "id": "9970ba8f",
   "metadata": {},
   "source": [
    "## Rotation matrix calculation"
   ]
  },
  {
   "cell_type": "code",
   "execution_count": null,
   "id": "6f4cc3c6",
   "metadata": {},
   "outputs": [
    {
     "name": "stdout",
     "output_type": "stream",
     "text": [
      "Rotationsmatrix R:\n",
      " [[ 9.98150630e-01 -9.99983333e-03  5.99610083e-02]\n",
      " [ 9.98183903e-03  9.99950000e-01  5.99630071e-04]\n",
      " [-5.99640065e-02  0.00000000e+00  9.98200540e-01]]\n"
     ]
    }
   ],
   "source": [
    "roll = external_params['ROLL']    # Rotation um X-Achse\n",
    "pitch = external_params['TILT']   # Rotation um Y-Achse (hier als \"TILT\" bezeichnet)\n",
    "yaw = external_params['YAW']      # Rotation um Z-Achse\n",
    "\n",
    "# Rotationsmatrizen um die jeweiligen Achsen\n",
    "Rx = np.array([\n",
    "    [1, 0, 0],\n",
    "    [0, np.cos(roll), -np.sin(roll)],\n",
    "    [0, np.sin(roll), np.cos(roll)]\n",
    "])\n",
    "\n",
    "Ry = np.array([\n",
    "    [np.cos(pitch), 0, np.sin(pitch)],\n",
    "    [0, 1, 0],\n",
    "    [-np.sin(pitch), 0, np.cos(pitch)]\n",
    "])\n",
    "\n",
    "Rz = np.array([\n",
    "    [np.cos(yaw), -np.sin(yaw), 0],\n",
    "    [np.sin(yaw), np.cos(yaw), 0],\n",
    "    [0, 0, 1]\n",
    "])\n",
    "\n",
    "# Gesamte Rotationsmatrix: R = Rz * Ry * Rx (Z-Y-X-Konvention)\n",
    "R = Rz @ Ry @ Rx\n",
    "\n",
    "print(\"Rotationsmatrix R:\\n\", R)"
   ]
  },
  {
   "cell_type": "markdown",
   "id": "d61e59fd",
   "metadata": {},
   "source": [
    "## Shift vector"
   ]
  },
  {
   "cell_type": "code",
   "execution_count": 43,
   "id": "23e60309",
   "metadata": {},
   "outputs": [
    {
     "name": "stdout",
     "output_type": "stream",
     "text": [
      "Verschiebungsvektor t: [ 2.   -0.07  1.26]\n"
     ]
    }
   ],
   "source": [
    "# Extrahiere den Verschiebungsvektor (Translation) aus den external_params\n",
    "# LATPOS: Verschiebung in Y, HEIGHT: Verschiebung in Z, DISTANCE: Verschiebung in X (DIN 70000)\n",
    "t = np.array([\n",
    "    external_params['DISTANCE'],   # X\n",
    "    external_params['LATPOS'],     # Y\n",
    "    external_params['HEIGHT']      # Z\n",
    "])\n",
    "\n",
    "print(\"Verschiebungsvektor t:\", t)"
   ]
  },
  {
   "cell_type": "code",
   "execution_count": 44,
   "id": "c3687a33",
   "metadata": {},
   "outputs": [
    {
     "name": "stdout",
     "output_type": "stream",
     "text": [
      "3D-Punkt in Weltkoordinaten (verschoben und rotiert): [-18.58787648 -21.34033384  19.72080172]\n"
     ]
    }
   ],
   "source": [
    "# Transformation des Punkts in das Weltkoordinatensystem mit Rotation und Verschiebung\n",
    "point_3d_world = R @ point_3d_din + t\n",
    "print(\"3D-Punkt in Weltkoordinaten (verschoben und rotiert):\", point_3d_world)"
   ]
  }
 ],
 "metadata": {
  "kernelspec": {
   "display_name": "Python 3",
   "language": "python",
   "name": "python3"
  },
  "language_info": {
   "codemirror_mode": {
    "name": "ipython",
    "version": 3
   },
   "file_extension": ".py",
   "mimetype": "text/x-python",
   "name": "python",
   "nbconvert_exporter": "python",
   "pygments_lexer": "ipython3",
   "version": "3.11.9"
  }
 },
 "nbformat": 4,
 "nbformat_minor": 5
}
